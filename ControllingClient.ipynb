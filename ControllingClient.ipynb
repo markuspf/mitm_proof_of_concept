{
 "cells": [
  {
   "cell_type": "code",
   "execution_count": null,
   "metadata": {
    "collapsed": true,
    "deletable": true,
    "editable": true
   },
   "outputs": [],
   "source": [
    "from scscp import SCSCPCLI as cli\n",
    "import openmath.openmath as om"
   ]
  },
  {
   "cell_type": "code",
   "execution_count": null,
   "metadata": {
    "collapsed": false,
    "deletable": true,
    "editable": true
   },
   "outputs": [],
   "source": [
    "mmt_client = cli(\"localhost\", 26133)"
   ]
  },
  {
   "cell_type": "code",
   "execution_count": null,
   "metadata": {
    "collapsed": false,
    "deletable": true,
    "editable": true
   },
   "outputs": [],
   "source": [
    "mmt_client.heads"
   ]
  },
  {
   "cell_type": "code",
   "execution_count": null,
   "metadata": {
    "collapsed": false,
    "deletable": true,
    "editable": true
   },
   "outputs": [],
   "source": [
    "gap_server = mmt_client.heads.mitm_transient.registerServer([\"localhost\", 26134])"
   ]
  },
  {
   "cell_type": "code",
   "execution_count": null,
   "metadata": {
    "collapsed": false,
    "deletable": true,
    "editable": true
   },
   "outputs": [],
   "source": [
    "sing_server = mmt_client.heads.mitm_transient.registerServer([\"localhost\", 26135])"
   ]
  },
  {
   "cell_type": "code",
   "execution_count": null,
   "metadata": {
    "collapsed": true,
    "deletable": true,
    "editable": true
   },
   "outputs": [],
   "source": [
    "gap_symgroup_sym = om.OMSymbol(\"SymmetricGroup\", \"scscp_transient_1\")\n",
    "glob_symgroup_sym = om.OMSymbol(\"symmetric_group\", \"permgp2\")\n",
    "\n",
    "gap_orbit_sym = om.OMSymbol(\"orbit_of_list\", \"scscp_transient_1\")\n",
    "glob_orbit_sym = om.OMSymbol(\"orbit\", \"permgp1\")\n",
    "\n",
    "sing_poly_eq = om.OMSymbol(\"polynomial_eq\", \"scscp_trans_1\")\n",
    "poly_sym = om.OMSymbol(\"DMP\", \"polyd\")"
   ]
  },
  {
   "cell_type": "code",
   "execution_count": null,
   "metadata": {
    "collapsed": false,
    "deletable": true,
    "editable": true
   },
   "outputs": [],
   "source": [
    "mmt_client.heads.mitm_transient.registerFunction([gap_server, gap_symgroup_sym, glob_symgroup_sym])"
   ]
  },
  {
   "cell_type": "code",
   "execution_count": null,
   "metadata": {
    "collapsed": false,
    "deletable": true,
    "editable": true
   },
   "outputs": [],
   "source": [
    "mmt_client.heads.mitm_transient.registerFunction([gap_server, gap_orbit_sym, glob_orbit_sym])"
   ]
  },
  {
   "cell_type": "code",
   "execution_count": null,
   "metadata": {
    "collapsed": false,
    "deletable": true,
    "editable": true
   },
   "outputs": [],
   "source": [
    "mmt_client.heads.mitm_transient.registerEquality([sing_server, sing_poly_eq, poly_sym])"
   ]
  },
  {
   "cell_type": "code",
   "execution_count": null,
   "metadata": {
    "collapsed": true,
    "deletable": true,
    "editable": true
   },
   "outputs": [],
   "source": [
    "mmt_client.quit()"
   ]
  }
 ],
 "metadata": {
  "kernelspec": {
   "display_name": "Python 3",
   "language": "python",
   "name": "python3"
  },
  "language_info": {
   "codemirror_mode": {
    "name": "ipython",
    "version": 3
   },
   "file_extension": ".py",
   "mimetype": "text/x-python",
   "name": "python",
   "nbconvert_exporter": "python",
   "pygments_lexer": "ipython3",
   "version": "3.5.2"
  }
 },
 "nbformat": 4,
 "nbformat_minor": 2
}
