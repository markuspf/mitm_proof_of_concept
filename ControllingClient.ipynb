{
 "cells": [
  {
   "cell_type": "code",
   "execution_count": 10,
   "metadata": {
    "collapsed": true,
    "deletable": true,
    "editable": true
   },
   "outputs": [],
   "source": [
    "from scscp import SCSCPCLI as cli\n",
    "import openmath.openmath as om"
   ]
  },
  {
   "cell_type": "code",
   "execution_count": 36,
   "metadata": {
    "collapsed": false,
    "deletable": true,
    "editable": true
   },
   "outputs": [],
   "source": [
    "gap_client = cli(\"localhost\", 26134)"
   ]
  },
  {
   "cell_type": "code",
   "execution_count": 31,
   "metadata": {
    "collapsed": false,
    "deletable": true,
    "editable": true
   },
   "outputs": [
    {
     "data": {
      "text/plain": [
       "{'scscp_transient_1': ['IdGroup512ByCode', 'Addition', 'PrimitiveGroup', 'SCSCPStopTracing', 'AutomorphismGroup', 'SymmetricGroup', 'MatrixMultiplication', 'Size', 'IdGroup', 'SylowSubgroup', 'MathieuGroup', 'IsPrimeInt', 'NrConjugacyClasses', 'SmallGroup', 'Identity', 'SCSCPStartTracing', 'Multiplication', 'Factorial', 'AlternatingGroup', 'ConwayPolynomial', 'IO_UnpickleStringAndPickleItBack', 'LatticeSubgroups', 'GroupIdentification', 'Length', 'Phi', 'Determinant', 'TransitiveGroup']}"
      ]
     },
     "execution_count": 31,
     "metadata": {},
     "output_type": "execute_result"
    }
   ],
   "source": [
    "gap_client.heads"
   ]
  },
  {
   "cell_type": "code",
   "execution_count": 26,
   "metadata": {
    "collapsed": false,
    "deletable": true,
    "editable": true
   },
   "outputs": [],
   "source": [
    "# define some useful symbols\n",
    "cycle_sym = om.OMSymbol(\"cycle\", \"permutation1\")\n",
    "perm_sym = om.OMSymbol(\"permutation\", \"permutation1\")\n",
    "one_sym = om.OMInteger(1)\n",
    "two_sym = om.OMInteger(2)\n",
    "three_sym = om.OMInteger(3)"
   ]
  },
  {
   "cell_type": "code",
   "execution_count": 27,
   "metadata": {
    "collapsed": true,
    "deletable": true,
    "editable": true
   },
   "outputs": [],
   "source": [
    "cycle_app1 = om.OMApplication(cycle_sym, [one_sym, two_sym, three_sym])\n",
    "perm_app = om.OMApplication(perm_sym, [cycle_app1])"
   ]
  },
  {
   "cell_type": "code",
   "execution_count": 37,
   "metadata": {
    "collapsed": false,
    "deletable": true,
    "editable": true
   },
   "outputs": [
    {
     "data": {
      "text/plain": [
       "OMApplication(OMSymbol('signature', 'scscp2', id=None, cdbase=None), [OMSymbol('SymmetricGroup', 'scscp_transient_1', id=None, cdbase=None), OMInteger(0, id=None), OMSymbol('infinity', 'nums1', id=None, cdbase=None), OMSymbol('symbol_set_all', 'scscp2', id=None, cdbase=None)], id=None, cdbase=None)"
      ]
     },
     "execution_count": 37,
     "metadata": {},
     "output_type": "execute_result"
    }
   ],
   "source": [
    "gap_client.heads.scscp2.get_signature([om.OMSymbol(\"SymmetricGroup\", \"scscp_transient_1\")])"
   ]
  },
  {
   "cell_type": "code",
   "execution_count": 33,
   "metadata": {
    "collapsed": false,
    "deletable": true,
    "editable": true
   },
   "outputs": [
    {
     "ename": "SCSCPProtocolError",
     "evalue": "Server returned error: error_system_specific.",
     "output_type": "error",
     "traceback": [
      "\u001b[0;31m---------------------------------------------------------------------------\u001b[0m",
      "\u001b[0;31mSCSCPProtocolError\u001b[0m                        Traceback (most recent call last)",
      "\u001b[0;32m<ipython-input-33-777695aef8f5>\u001b[0m in \u001b[0;36m<module>\u001b[0;34m()\u001b[0m\n\u001b[0;32m----> 1\u001b[0;31m \u001b[0mgap_client\u001b[0m\u001b[0;34m.\u001b[0m\u001b[0mheads\u001b[0m\u001b[0;34m.\u001b[0m\u001b[0mscscp_transient_1\u001b[0m\u001b[0;34m.\u001b[0m\u001b[0mSymmetricGroup\u001b[0m\u001b[0;34m(\u001b[0m\u001b[0;34m[\u001b[0m\u001b[0mperm_app\u001b[0m\u001b[0;34m]\u001b[0m\u001b[0;34m)\u001b[0m\u001b[0;34m\u001b[0m\u001b[0m\n\u001b[0m",
      "\u001b[0;32m/cs/home/vv20/.local/lib/python3.5/site-packages/scscp/cli.py\u001b[0m in \u001b[0;36m__call__\u001b[0;34m(self, data, cookie, **opts)\u001b[0m\n\u001b[1;32m     30\u001b[0m             \u001b[0;32melif\u001b[0m \u001b[0mres\u001b[0m\u001b[0;34m.\u001b[0m\u001b[0mtype\u001b[0m \u001b[0;34m==\u001b[0m \u001b[0;34m'procedure_terminated'\u001b[0m\u001b[0;34m:\u001b[0m\u001b[0;34m\u001b[0m\u001b[0m\n\u001b[1;32m     31\u001b[0m                 raise scscp.SCSCPProtocolError('Server returned error: %s.' % res.data.name.name,\n\u001b[0;32m---> 32\u001b[0;31m                                                    res.data)\n\u001b[0m\u001b[1;32m     33\u001b[0m             \u001b[0;32melse\u001b[0m\u001b[0;34m:\u001b[0m\u001b[0;34m\u001b[0m\u001b[0m\n\u001b[1;32m     34\u001b[0m                 \u001b[0;32mraise\u001b[0m \u001b[0mscscp\u001b[0m\u001b[0;34m.\u001b[0m\u001b[0mSCSCPProtocolError\u001b[0m\u001b[0;34m(\u001b[0m\u001b[0;34m'Unexpected response.'\u001b[0m\u001b[0;34m,\u001b[0m \u001b[0mresp\u001b[0m\u001b[0;34m.\u001b[0m\u001b[0mom\u001b[0m\u001b[0;34m(\u001b[0m\u001b[0;34m)\u001b[0m\u001b[0;34m)\u001b[0m\u001b[0;34m\u001b[0m\u001b[0m\n",
      "\u001b[0;31mSCSCPProtocolError\u001b[0m: Server returned error: error_system_specific."
     ]
    }
   ],
   "source": [
    "gap_client.heads.scscp_transient_1.SymmetricGroup([perm_app])"
   ]
  }
 ],
 "metadata": {
  "kernelspec": {
   "display_name": "Python 3",
   "language": "python",
   "name": "python3"
  },
  "language_info": {
   "codemirror_mode": {
    "name": "ipython",
    "version": 3
   },
   "file_extension": ".py",
   "mimetype": "text/x-python",
   "name": "python",
   "nbconvert_exporter": "python",
   "pygments_lexer": "ipython3",
   "version": "3.5.2"
  }
 },
 "nbformat": 4,
 "nbformat_minor": 2
}
