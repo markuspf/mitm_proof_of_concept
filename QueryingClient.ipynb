{
 "cells": [
  {
   "cell_type": "code",
   "execution_count": 2,
   "metadata": {
    "collapsed": false,
    "deletable": true,
    "editable": true
   },
   "outputs": [],
   "source": [
    "from scscp import SCSCPCLI as cli\n",
    "from openmath import openmath as om\n",
    "import poly_parsing as parse"
   ]
  },
  {
   "cell_type": "code",
   "execution_count": 3,
   "metadata": {
    "collapsed": false,
    "deletable": true,
    "editable": true
   },
   "outputs": [
    {
     "ename": "ConnectionRefusedError",
     "evalue": "[Errno 111] Connection refused",
     "output_type": "error",
     "traceback": [
      "\u001b[0;31m---------------------------------------------------------------------------\u001b[0m",
      "\u001b[0;31mConnectionRefusedError\u001b[0m                    Traceback (most recent call last)",
      "\u001b[0;32m<ipython-input-3-0a21986f3eaa>\u001b[0m in \u001b[0;36m<module>\u001b[0;34m()\u001b[0m\n\u001b[0;32m----> 1\u001b[0;31m \u001b[0mclient\u001b[0m \u001b[0;34m=\u001b[0m \u001b[0mcli\u001b[0m\u001b[0;34m(\u001b[0m\u001b[0;34m\"localhost\"\u001b[0m\u001b[0;34m,\u001b[0m \u001b[0;36m26133\u001b[0m\u001b[0;34m)\u001b[0m\u001b[0;34m\u001b[0m\u001b[0m\n\u001b[0m",
      "\u001b[0;32m/usr/local/lib/python3.5/dist-packages/scscp/cli.py\u001b[0m in \u001b[0;36m__init__\u001b[0;34m(self, host, port, populate)\u001b[0m\n\u001b[1;32m     70\u001b[0m     \u001b[0;32mdef\u001b[0m \u001b[0m__init__\u001b[0m\u001b[0;34m(\u001b[0m\u001b[0mself\u001b[0m\u001b[0;34m,\u001b[0m \u001b[0mhost\u001b[0m\u001b[0;34m,\u001b[0m \u001b[0mport\u001b[0m\u001b[0;34m=\u001b[0m\u001b[0;36m26133\u001b[0m\u001b[0;34m,\u001b[0m \u001b[0mpopulate\u001b[0m\u001b[0;34m=\u001b[0m\u001b[0;32mTrue\u001b[0m\u001b[0;34m)\u001b[0m\u001b[0;34m:\u001b[0m\u001b[0;34m\u001b[0m\u001b[0m\n\u001b[1;32m     71\u001b[0m         \u001b[0ms\u001b[0m \u001b[0;34m=\u001b[0m \u001b[0msocket\u001b[0m\u001b[0;34m.\u001b[0m\u001b[0msocket\u001b[0m\u001b[0;34m(\u001b[0m\u001b[0msocket\u001b[0m\u001b[0;34m.\u001b[0m\u001b[0mAF_INET\u001b[0m\u001b[0;34m,\u001b[0m \u001b[0msocket\u001b[0m\u001b[0;34m.\u001b[0m\u001b[0mSOCK_STREAM\u001b[0m\u001b[0;34m)\u001b[0m\u001b[0;34m\u001b[0m\u001b[0m\n\u001b[0;32m---> 72\u001b[0;31m         \u001b[0ms\u001b[0m\u001b[0;34m.\u001b[0m\u001b[0mconnect\u001b[0m\u001b[0;34m(\u001b[0m\u001b[0;34m(\u001b[0m\u001b[0mhost\u001b[0m\u001b[0;34m,\u001b[0m \u001b[0mport\u001b[0m\u001b[0;34m)\u001b[0m\u001b[0;34m)\u001b[0m\u001b[0;34m\u001b[0m\u001b[0m\n\u001b[0m\u001b[1;32m     73\u001b[0m         \u001b[0msuper\u001b[0m\u001b[0;34m(\u001b[0m\u001b[0mSCSCPCLI\u001b[0m\u001b[0;34m,\u001b[0m \u001b[0mself\u001b[0m\u001b[0;34m)\u001b[0m\u001b[0;34m.\u001b[0m\u001b[0m__init__\u001b[0m\u001b[0;34m(\u001b[0m\u001b[0ms\u001b[0m\u001b[0;34m)\u001b[0m\u001b[0;34m\u001b[0m\u001b[0m\n\u001b[1;32m     74\u001b[0m         \u001b[0mself\u001b[0m\u001b[0;34m.\u001b[0m\u001b[0mheads\u001b[0m \u001b[0;34m=\u001b[0m \u001b[0mself\u001b[0m\u001b[0;34m.\u001b[0m\u001b[0mHeads\u001b[0m\u001b[0;34m(\u001b[0m\u001b[0mself\u001b[0m\u001b[0;34m)\u001b[0m\u001b[0;34m\u001b[0m\u001b[0m\n",
      "\u001b[0;31mConnectionRefusedError\u001b[0m: [Errno 111] Connection refused"
     ]
    }
   ],
   "source": [
    "client = cli(\"localhost\", 26133)"
   ]
  },
  {
   "cell_type": "code",
   "execution_count": null,
   "metadata": {
    "collapsed": false,
    "deletable": true,
    "editable": true
   },
   "outputs": [],
   "source": [
    "client.heads"
   ]
  },
  {
   "cell_type": "code",
   "execution_count": null,
   "metadata": {
    "collapsed": false,
    "deletable": true,
    "editable": true
   },
   "outputs": [],
   "source": [
    "# construct the polynomial x2y3z + x4yz2 + xz\n",
    "int_ring = om.OMSymbol(\"integers\", \"ring3\")\n",
    "sdmp_sym = om.OMSymbol(\"SDMP\", \"polyd\")\n",
    "term_sym = om.OMSymbol(\"term\", \"polyd\")\n",
    "poly_ring_sym = om.OMSymbol(\"poly_ring_d_named\", \"polyd\")\n",
    "dmp_sym = om.OMSymbol(\"DMP\", \"polyd\")\n",
    "list_sym = om.OMSymbol(\"list\", \"list1\")\n",
    "\n",
    "var1 = om.OMVariable(\"x\")\n",
    "var2 = om.OMVariable(\"y\")\n",
    "var3 = om.OMVariable(\"z\")\n",
    "\n",
    "int0 = om.OMInteger(0)\n",
    "int1 = om.OMInteger(1)\n",
    "int2 = om.OMInteger(2)\n",
    "int3 = om.OMInteger(3)\n",
    "int4 = om.OMInteger(4)\n",
    "\n",
    "poly_ring = om.OMApplication(poly_ring_sym, [int_ring, var1, var2, var3])\n",
    "term1 = om.OMApplication(term_sym, [int1, int2, int3, int1])\n",
    "term2 = om.OMApplication(term_sym, [int1, int4, int1, int2])\n",
    "term3 = om.OMApplication(term_sym, [int1, int1, int0, int1])\n",
    "sdmp = om.OMApplication(sdmp_sym, [term1, term2, term3])\n",
    "poly = om.OMApplication(dmp_sym, [poly_ring, sdmp])"
   ]
  },
  {
   "cell_type": "code",
   "execution_count": null,
   "metadata": {
    "collapsed": false,
    "deletable": true,
    "editable": true
   },
   "outputs": [],
   "source": [
    "# calculate the orbit of the list of variables\n",
    "var_list = om.OMApplication(list_sym, [var1, var2, var3])\n",
    "perm_gp = client.heads.permgp2.symmetric_group([3])\n",
    "var_orbit = client.heads.permgp1.orbit([perm_gp, var_list])"
   ]
  },
  {
   "cell_type": "code",
   "execution_count": null,
   "metadata": {
    "collapsed": false,
    "deletable": true,
    "editable": true
   },
   "outputs": [],
   "source": [
    "# filter out the duplicates\n",
    "for perm1 in var_orbit:\n",
    "    args1 = [int_ring] + [om.OMVariable(name) for name in perm1]\n",
    "    ring1 = om.OMApplication(poly_ring_sym, args1)\n",
    "    poly1 = om.OMApplication(dmp_sym, [ring1, sdmp])\n",
    "    for perm2 in var_orbit:\n",
    "        args2 = [int_ring] + [om.OMVariable(name) for name in perm2]\n",
    "        ring2 = om.OMApplication(poly_ring_sym, args2)\n",
    "        poly2 = om.OMApplication(dmp_sym, [ring2, sdmp])\n",
    "        if client.heads.relation1.eq([poly1, poly2]):\n",
    "            var_orbit.remove(perm2)"
   ]
  },
  {
   "cell_type": "code",
   "execution_count": null,
   "metadata": {
    "collapsed": false,
    "deletable": true,
    "editable": true
   },
   "outputs": [],
   "source": [
    "poly_orbit = []\n",
    "for perm in var_orbit:\n",
    "    args = [int_ring] + perm\n",
    "    ring = om.OMApplication(poly_ring_sym, args)\n",
    "    poly_orbit.append(om.OMApplication(dmp_sym, [ring, sdmp]))"
   ]
  },
  {
   "cell_type": "code",
   "execution_count": null,
   "metadata": {
    "collapsed": false,
    "deletable": true,
    "editable": true
   },
   "outputs": [],
   "source": [
    "for poly in poly_orbit:\n",
    "    for term in poly.arguments[1].arguments:\n",
    "        print(term.arguments[0].integer, end=\"\")\n",
    "        for i in range(1, len(poly.arguments[0].arguments)):\n",
    "            print(poly.arguments[0].arguments[i], end=\"\")\n",
    "            print(term.arguments[i].integer, end=\"\")\n",
    "            if i == len(poly.arguments[0].arguments) - 1:\n",
    "                print(\"+\", end=\"\")\n",
    "    print()"
   ]
  }
 ],
 "metadata": {
  "kernelspec": {
   "display_name": "Python 3",
   "language": "python",
   "name": "python3"
  },
  "language_info": {
   "codemirror_mode": {
    "name": "ipython",
    "version": 3
   },
   "file_extension": ".py",
   "mimetype": "text/x-python",
   "name": "python",
   "nbconvert_exporter": "python",
   "pygments_lexer": "ipython3",
   "version": "3.5.2"
  }
 },
 "nbformat": 4,
 "nbformat_minor": 2
}
