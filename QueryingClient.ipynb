{
 "cells": [
  {
   "cell_type": "code",
   "execution_count": 1,
   "metadata": {
    "collapsed": false,
    "deletable": true,
    "editable": true
   },
   "outputs": [],
   "source": [
    "from scscp import SCSCPCLI as cli\n",
    "from openmath import openmath as om\n",
    "import poly_parsing as parse"
   ]
  },
  {
   "cell_type": "code",
   "execution_count": 2,
   "metadata": {
    "collapsed": true,
    "deletable": true,
    "editable": true
   },
   "outputs": [],
   "source": [
    "int_ring = om.OMSymbol(\"integers\", \"ring3\")\n",
    "sdmp_sym = om.OMSymbol(\"SDMP\", \"polyd\")\n",
    "term_sym = om.OMSymbol(\"term\", \"polyd\")\n",
    "poly_ring_sym = om.OMSymbol(\"poly_ring_d_named\", \"polyd\")\n",
    "dmp_sym = om.OMSymbol(\"DMP\", \"polyd\")"
   ]
  },
  {
   "cell_type": "code",
   "execution_count": 3,
   "metadata": {
    "collapsed": false,
    "deletable": true,
    "editable": true
   },
   "outputs": [],
   "source": [
    "client = cli(\"localhost\", 26133)"
   ]
  },
  {
   "cell_type": "code",
   "execution_count": 4,
   "metadata": {
    "collapsed": false,
    "deletable": true,
    "editable": true
   },
   "outputs": [],
   "source": [
    "def calculate_orbit_of_list(poly):\n",
    "    var_list = om.OMApplication(om.OMSymbol(\"list\", \"list1\"), poly.arguments[0].arguments[1:])\n",
    "    perm_gp = client.heads.permgp2.symmetric_group([len(poly.arguments[0].arguments[1:])])\n",
    "    return client.heads.permgp1.orbit([perm_gp, var_list])"
   ]
  },
  {
   "cell_type": "code",
   "execution_count": 5,
   "metadata": {
    "collapsed": false,
    "deletable": true,
    "editable": true
   },
   "outputs": [],
   "source": [
    "def filter_duplicates(var_orbit, poly):\n",
    "    for perm1 in var_orbit:\n",
    "        args1 = [int_ring]\n",
    "        for count in range(0, len(perm1)):\n",
    "            args1.append(om.OMVariable(perm1[count]))\n",
    "        ring1 = om.OMApplication(poly_ring_sym, args1)\n",
    "        poly1 = om.OMApplication(dmp_sym, [ring1, poly.arguments[1]])\n",
    "        for perm2 in var_orbit:\n",
    "            if perm1 == perm2:\n",
    "                continue\n",
    "            args2 = [int_ring]\n",
    "            for count in range(0, len(perm2)):\n",
    "                args2.append(om.OMVariable(perm2[count]))\n",
    "            ring2 = om.OMApplication(poly_ring_sym, args2)\n",
    "            poly2 = om.OMApplication(dmp_sym, [ring2, poly.arguments[1]])\n",
    "            print(\"comparing \" + parse.poly_to_str(poly1) + \" with \" + parse.poly_to_str(poly2))\n",
    "            if client.heads.relation1.eq([poly1, poly2]):\n",
    "                print(\"duplicate!\")\n",
    "                var_orbit.remove(perm2)\n",
    "    return var_orbit"
   ]
  },
  {
   "cell_type": "code",
   "execution_count": 6,
   "metadata": {
    "collapsed": false,
    "deletable": true,
    "editable": true
   },
   "outputs": [],
   "source": [
    "def apply_variations_to_polynomial(var_orbit, poly):\n",
    "    poly_orbit = []\n",
    "    for perm in var_orbit:\n",
    "        args = [int_ring] + [om.OMVariable(var) for var in perm]\n",
    "        ring = om.OMApplication(poly_ring_sym, args)\n",
    "        poly_orbit.append(om.OMApplication(dmp_sym, [ring, poly.arguments[1]]))\n",
    "    return poly_orbit"
   ]
  },
  {
   "cell_type": "code",
   "execution_count": 7,
   "metadata": {
    "collapsed": false,
    "deletable": true,
    "editable": true
   },
   "outputs": [],
   "source": [
    "def print_poly_orbit(poly_orbit):\n",
    "    for poly in poly_orbit:\n",
    "        print(parse.poly_to_str(poly))"
   ]
  },
  {
   "cell_type": "code",
   "execution_count": 8,
   "metadata": {
    "collapsed": false,
    "deletable": true,
    "editable": true
   },
   "outputs": [],
   "source": [
    "def orbit_of_polynomial(poly):\n",
    "    list_orb = calculate_orbit_of_list(poly)\n",
    "    list_orb = filter_duplicates(list_orb, poly)\n",
    "    poly_orb = apply_variations_to_polynomial(list_orb, poly)\n",
    "    print_poly_orbit(poly_orb)"
   ]
  },
  {
   "cell_type": "code",
   "execution_count": 9,
   "metadata": {
    "collapsed": false,
    "deletable": true,
    "editable": true
   },
   "outputs": [
    {
     "name": "stdout",
     "output_type": "stream",
     "text": [
      "comparing z2y1x2 with z2x1y2\n",
      "comparing z2y1x2 with y2z1x2\n",
      "comparing z2y1x2 with y2x1z2\n",
      "comparing z2y1x2 with x2z1y2\n",
      "comparing z2y1x2 with x2y1z2\n",
      "duplicate!\n",
      "comparing z2x1y2 with z2y1x2\n",
      "comparing z2x1y2 with y2z1x2\n",
      "comparing z2x1y2 with y2x1z2\n",
      "duplicate!\n",
      "comparing y2z1x2 with z2y1x2\n",
      "comparing y2z1x2 with z2x1y2\n",
      "comparing y2z1x2 with x2z1y2\n",
      "duplicate!\n",
      "z2y1x2\n",
      "z2x1y2\n",
      "y2z1x2\n"
     ]
    }
   ],
   "source": [
    "orbit_of_polynomial(parse.parse_polynomial(\"x2y1z2\"))"
   ]
  },
  {
   "cell_type": "code",
   "execution_count": 10,
   "metadata": {
    "collapsed": false,
    "deletable": true,
    "editable": true
   },
   "outputs": [
    {
     "name": "stdout",
     "output_type": "stream",
     "text": [
      "comparing z2y1x3 with z2x1y3\n",
      "comparing z2y1x3 with y2z1x3\n",
      "comparing z2y1x3 with y2x1z3\n",
      "comparing z2y1x3 with x2z1y3\n",
      "comparing z2y1x3 with x2y1z3\n",
      "comparing z2x1y3 with z2y1x3\n",
      "comparing z2x1y3 with y2z1x3\n",
      "comparing z2x1y3 with y2x1z3\n",
      "comparing z2x1y3 with x2z1y3\n",
      "comparing z2x1y3 with x2y1z3\n",
      "comparing y2z1x3 with z2y1x3\n",
      "comparing y2z1x3 with z2x1y3\n",
      "comparing y2z1x3 with y2x1z3\n",
      "comparing y2z1x3 with x2z1y3\n",
      "comparing y2z1x3 with x2y1z3\n",
      "comparing y2x1z3 with z2y1x3\n",
      "comparing y2x1z3 with z2x1y3\n",
      "comparing y2x1z3 with y2z1x3\n",
      "comparing y2x1z3 with x2z1y3\n",
      "comparing y2x1z3 with x2y1z3\n",
      "comparing x2z1y3 with z2y1x3\n",
      "comparing x2z1y3 with z2x1y3\n",
      "comparing x2z1y3 with y2z1x3\n",
      "comparing x2z1y3 with y2x1z3\n",
      "comparing x2z1y3 with x2y1z3\n",
      "comparing x2y1z3 with z2y1x3\n",
      "comparing x2y1z3 with z2x1y3\n",
      "comparing x2y1z3 with y2z1x3\n",
      "comparing x2y1z3 with y2x1z3\n",
      "comparing x2y1z3 with x2z1y3\n",
      "z2y1x3\n",
      "z2x1y3\n",
      "y2z1x3\n",
      "y2x1z3\n",
      "x2z1y3\n",
      "x2y1z3\n"
     ]
    }
   ],
   "source": [
    "orbit_of_polynomial(parse.parse_polynomial(\"x3y1z2\"))"
   ]
  }
 ],
 "metadata": {
  "kernelspec": {
   "display_name": "Python 3",
   "language": "python",
   "name": "python3"
  },
  "language_info": {
   "codemirror_mode": {
    "name": "ipython",
    "version": 3
   },
   "file_extension": ".py",
   "mimetype": "text/x-python",
   "name": "python",
   "nbconvert_exporter": "python",
   "pygments_lexer": "ipython3",
   "version": "3.5.2"
  }
 },
 "nbformat": 4,
 "nbformat_minor": 2
}
