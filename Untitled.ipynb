{
 "cells": [
  {
   "cell_type": "code",
   "execution_count": 1,
   "metadata": {},
   "outputs": [],
   "source": [
    "from scscp import SCSCPCLI as cli\n",
    "import poly_parsing as parse\n",
    "from openmath import openmath as om"
   ]
  },
  {
   "cell_type": "code",
   "execution_count": 22,
   "metadata": {},
   "outputs": [],
   "source": [
    "client = cli(\"localhost\", 26134)"
   ]
  },
  {
   "cell_type": "code",
   "execution_count": 7,
   "metadata": {},
   "outputs": [
    {
     "data": {
      "text/plain": [
       "{'scscp_transient_1': ['Orbit', 'DihedralGroup', 'SCSCPStopTracing', 'SCSCPStartTracing', 'SymmetricGroup']}"
      ]
     },
     "execution_count": 7,
     "metadata": {},
     "output_type": "execute_result"
    }
   ],
   "source": [
    "client.heads"
   ]
  },
  {
   "cell_type": "code",
   "execution_count": 23,
   "metadata": {},
   "outputs": [],
   "source": [
    "poly = parse.parse_polynomial(\"x2y3\")\n",
    "group = client.heads.scscp_transient_1.SymmetricGroup([2])\n",
    "action = om.OMSymbol(\"OnMultivariatePolynomialsVariables\", \"gap1\")"
   ]
  },
  {
   "cell_type": "code",
   "execution_count": 24,
   "metadata": {},
   "outputs": [
    {
     "data": {
      "text/plain": [
       "OMApplication(OMSymbol('list', 'list1', id=None, cdbase=None), [OMApplication(OMSymbol('DMP', 'polyd1', id=None, cdbase=None), [OMReference('#polyring0nSO67K1mCch9nXL', id=None), OMApplication(OMSymbol('SDMP', 'polyd1', id=None, cdbase=None), [OMApplication(OMSymbol('term', 'polyd1', id=None, cdbase=None), [OMInteger(1, id=None), OMInteger(2, id=None), OMInteger(3, id=None), OMInteger(0, id=None), OMInteger(0, id=None)], id=None, cdbase=None)], id=None, cdbase=None)], id=None, cdbase=None), OMApplication(OMSymbol('DMP', 'polyd1', id=None, cdbase=None), [OMReference('#polyring0nSO67K1mCch9nXL', id=None), OMApplication(OMSymbol('SDMP', 'polyd1', id=None, cdbase=None), [OMApplication(OMSymbol('term', 'polyd1', id=None, cdbase=None), [OMInteger(1, id=None), OMInteger(3, id=None), OMInteger(2, id=None), OMInteger(0, id=None), OMInteger(0, id=None)], id=None, cdbase=None)], id=None, cdbase=None)], id=None, cdbase=None)], id=None, cdbase=None)"
      ]
     },
     "execution_count": 24,
     "metadata": {},
     "output_type": "execute_result"
    }
   ],
   "source": [
    "client.heads.scscp_transient_1.Orbit([group, poly, action])"
   ]
  }
 ],
 "metadata": {
  "kernelspec": {
   "display_name": "Python 3",
   "language": "python",
   "name": "python3"
  },
  "language_info": {
   "codemirror_mode": {
    "name": "ipython",
    "version": 3
   },
   "file_extension": ".py",
   "mimetype": "text/x-python",
   "name": "python",
   "nbconvert_exporter": "python",
   "pygments_lexer": "ipython3",
   "version": "3.5.2"
  }
 },
 "nbformat": 4,
 "nbformat_minor": 2
}
