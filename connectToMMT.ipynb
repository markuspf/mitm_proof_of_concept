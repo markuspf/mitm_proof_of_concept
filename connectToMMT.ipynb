{
 "cells": [
  {
   "cell_type": "code",
   "execution_count": 1,
   "metadata": {
    "collapsed": false,
    "deletable": true,
    "editable": true
   },
   "outputs": [],
   "source": [
    "from scscp import SCSCPCLI as cli\n",
    "import openmath as om"
   ]
  },
  {
   "cell_type": "code",
   "execution_count": 2,
   "metadata": {
    "collapsed": false,
    "deletable": true,
    "editable": true
   },
   "outputs": [],
   "source": [
    "client = cli(\"scscp.gap-system.org\")"
   ]
  },
  {
   "cell_type": "code",
   "execution_count": 3,
   "metadata": {
    "collapsed": false,
    "deletable": true,
    "editable": true
   },
   "outputs": [
    {
     "data": {
      "text/plain": [
       "{'scscp_transient_1': ['IsPrimeInt', 'Identity', 'NextUnknownGnu', 'IdGroup', 'PrimitiveGroup', 'SCSCPStartTracing', 'IO_UnpickleStringAndPickleItBack', 'AlternatingGroup', 'GnuExplained', 'IdGroup512ByCode', 'SCSCPStopTracing', 'MathieuGroup', 'NrConjugacyClasses', 'Multiplication', 'Determinant', 'ConwayPolynomial', 'LatticeSubgroups', 'SmallGroup', 'MatrixMultiplication', 'Phi', 'GnuWishlist', 'Gnu', 'Factorial', 'SymmetricGroup', 'AutomorphismGroup', 'Length', 'GroupIdentification', 'Addition', 'Size', 'TransitiveGroup', 'SylowSubgroup']}"
      ]
     },
     "execution_count": 3,
     "metadata": {},
     "output_type": "execute_result"
    }
   ],
   "source": [
    "client.heads"
   ]
  },
  {
   "cell_type": "code",
   "execution_count": 4,
   "metadata": {
    "collapsed": false,
    "deletable": true,
    "editable": true
   },
   "outputs": [
    {
     "data": {
      "text/plain": [
       "OMApplication(OMSymbol('symbol_set', 'scscp2', id=None, cdbase=None), [], id=None, cdbase=None)"
      ]
     },
     "execution_count": 4,
     "metadata": {},
     "output_type": "execute_result"
    }
   ],
   "source": [
    "client.heads.mitm_transient.getAllServers([])"
   ]
  },
  {
   "cell_type": "code",
   "execution_count": 10,
   "metadata": {
    "collapsed": false,
    "deletable": true,
    "editable": true
   },
   "outputs": [
    {
     "data": {
      "text/plain": [
       "OMSymbol('procedure_completed', 'scscp1', id=None, cdbase=None)"
      ]
     },
     "execution_count": 10,
     "metadata": {},
     "output_type": "execute_result"
    }
   ],
   "source": [
    "client.heads.mitm_transient.registerFunction([\"GAP\", \"Group\", \"http://mathhub.info/MitM/Groups?Group/group\"])"
   ]
  },
  {
   "cell_type": "code",
   "execution_count": 6,
   "metadata": {
    "collapsed": false,
    "deletable": true,
    "editable": true
   },
   "outputs": [
    {
     "data": {
      "text/plain": [
       "'GAP'"
      ]
     },
     "execution_count": 6,
     "metadata": {},
     "output_type": "execute_result"
    }
   ],
   "source": [
    "client.heads.mitm_transient.registerServer([\"localhost\", 26134])"
   ]
  },
  {
   "cell_type": "code",
   "execution_count": 17,
   "metadata": {
    "collapsed": false,
    "deletable": true,
    "editable": true
   },
   "outputs": [
    {
     "ename": "SCSCPProtocolError",
     "evalue": "Server returned error: error_system_specific.",
     "output_type": "error",
     "traceback": [
      "\u001b[0;31m---------------------------------------------------------------------------\u001b[0m",
      "\u001b[0;31mSCSCPProtocolError\u001b[0m                        Traceback (most recent call last)",
      "\u001b[0;32m<ipython-input-17-53f5e338bf6c>\u001b[0m in \u001b[0;36m<module>\u001b[0;34m()\u001b[0m\n\u001b[0;32m----> 1\u001b[0;31m \u001b[0mclient\u001b[0m\u001b[0;34m.\u001b[0m\u001b[0mheads\u001b[0m\u001b[0;34m.\u001b[0m\u001b[0mmitm_transient\u001b[0m\u001b[0;34m.\u001b[0m\u001b[0mremoveServer\u001b[0m\u001b[0;34m(\u001b[0m\u001b[0;34m[\u001b[0m\u001b[0;34m\"GAP\"\u001b[0m\u001b[0;34m]\u001b[0m\u001b[0;34m)\u001b[0m\u001b[0;34m\u001b[0m\u001b[0m\n\u001b[0m",
      "\u001b[0;32m/cs/home/vv20/.local/lib/python3.5/site-packages/scscp/cli.py\u001b[0m in \u001b[0;36m__call__\u001b[0;34m(self, data, cookie, **opts)\u001b[0m\n\u001b[1;32m     30\u001b[0m             \u001b[0;32melif\u001b[0m \u001b[0mres\u001b[0m\u001b[0;34m.\u001b[0m\u001b[0mtype\u001b[0m \u001b[0;34m==\u001b[0m \u001b[0;34m'procedure_terminated'\u001b[0m\u001b[0;34m:\u001b[0m\u001b[0;34m\u001b[0m\u001b[0m\n\u001b[1;32m     31\u001b[0m                 raise scscp.SCSCPProtocolError('Server returned error: %s.' % res.data.name.name,\n\u001b[0;32m---> 32\u001b[0;31m                                                    res.data)\n\u001b[0m\u001b[1;32m     33\u001b[0m             \u001b[0;32melse\u001b[0m\u001b[0;34m:\u001b[0m\u001b[0;34m\u001b[0m\u001b[0m\n\u001b[1;32m     34\u001b[0m                 \u001b[0;32mraise\u001b[0m \u001b[0mscscp\u001b[0m\u001b[0;34m.\u001b[0m\u001b[0mSCSCPProtocolError\u001b[0m\u001b[0;34m(\u001b[0m\u001b[0;34m'Unexpected response.'\u001b[0m\u001b[0;34m,\u001b[0m \u001b[0mresp\u001b[0m\u001b[0;34m.\u001b[0m\u001b[0mom\u001b[0m\u001b[0;34m(\u001b[0m\u001b[0;34m)\u001b[0m\u001b[0;34m)\u001b[0m\u001b[0;34m\u001b[0m\u001b[0m\n",
      "\u001b[0;31mSCSCPProtocolError\u001b[0m: Server returned error: error_system_specific."
     ]
    }
   ],
   "source": [
    "client.heads.mitm_transient.removeServer([\"GAP\"])"
   ]
  },
  {
   "cell_type": "code",
   "execution_count": 4,
   "metadata": {
    "collapsed": false,
    "deletable": true,
    "editable": true
   },
   "outputs": [
    {
     "data": {
      "text/plain": [
       "OMApplication(OMSymbol('signature', 'scscp2', id=None, cdbase=None), [OMSymbol('Factorial', 'scscp_transient_1', id=None, cdbase=None), OMInteger(1, id=None), OMInteger(1, id=None), OMSymbol('symbol_set_all', 'scscp2', id=None, cdbase=None)], id=None, cdbase=None)"
      ]
     },
     "execution_count": 4,
     "metadata": {},
     "output_type": "execute_result"
    }
   ],
   "source": [
    "client.heads.scscp2.get_signature([om.openmath.OMSymbol(\"Factorial\", \"scscp_transient_1\")])"
   ]
  },
  {
   "cell_type": "code",
   "execution_count": 11,
   "metadata": {
    "collapsed": false,
    "deletable": true,
    "editable": true
   },
   "outputs": [
    {
     "data": {
      "text/plain": [
       "120"
      ]
     },
     "execution_count": 11,
     "metadata": {},
     "output_type": "execute_result"
    }
   ],
   "source": [
    "client.heads.scscp_transient_1.Factorial([5])"
   ]
  },
  {
   "cell_type": "code",
   "execution_count": 91,
   "metadata": {
    "collapsed": false,
    "deletable": true,
    "editable": true
   },
   "outputs": [
    {
     "data": {
      "text/plain": [
       "OMError(OMSymbol('error_system_specific', 'scscp1', id=None, cdbase=None), [OMString('localhost:26134 reports : Range: <last> must be an integer less than 2^60 (not a list (string))', id=None)], id=None, cdbase=None)"
      ]
     },
     "execution_count": 91,
     "metadata": {},
     "output_type": "execute_result"
    }
   ],
   "source": [
    "client.heads.scscp_transient_1.Factorial([\"5\"])"
   ]
  },
  {
   "cell_type": "code",
   "execution_count": 5,
   "metadata": {
    "collapsed": true
   },
   "outputs": [],
   "source": [
    "client.quit()"
   ]
  }
 ],
 "metadata": {
  "kernelspec": {
   "display_name": "Python 3",
   "language": "python",
   "name": "python3"
  },
  "language_info": {
   "codemirror_mode": {
    "name": "ipython",
    "version": 3
   },
   "file_extension": ".py",
   "mimetype": "text/x-python",
   "name": "python",
   "nbconvert_exporter": "python",
   "pygments_lexer": "ipython3",
   "version": "3.5.3"
  }
 },
 "nbformat": 4,
 "nbformat_minor": 2
}
