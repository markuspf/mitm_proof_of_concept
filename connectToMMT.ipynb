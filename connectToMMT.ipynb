{
 "cells": [
  {
   "cell_type": "code",
   "execution_count": 24,
   "metadata": {
    "collapsed": false,
    "deletable": true,
    "editable": true
   },
   "outputs": [],
   "source": [
    "from scscp import SCSCPCLI as cli\n",
    "from openmath import openmath as om"
   ]
  },
  {
   "cell_type": "code",
   "execution_count": 155,
   "metadata": {
    "collapsed": false,
    "deletable": true,
    "editable": true
   },
   "outputs": [],
   "source": [
    "client = cli(\"localhost\")"
   ]
  },
  {
   "cell_type": "code",
   "execution_count": 150,
   "metadata": {
    "collapsed": false,
    "deletable": true,
    "editable": true
   },
   "outputs": [
    {
     "data": {
      "text/plain": [
       "{'scscp_trans_1': ['polynomial_eq', 'ideal'], 'scscp1': [], 'scscp2': ['get_allowed_heads', 'is_allowed_head', 'get_signature', 'get_service_description']}"
      ]
     },
     "execution_count": 150,
     "metadata": {},
     "output_type": "execute_result"
    }
   ],
   "source": [
    "client.heads"
   ]
  },
  {
   "cell_type": "code",
   "execution_count": 140,
   "metadata": {
    "collapsed": true
   },
   "outputs": [],
   "source": [
    "int_ring = om.OMSymbol(\"integers\", \"ring3\")\n",
    "sdmp_sym = om.OMSymbol(\"SDMP\", \"polyd\")\n",
    "term_sym = om.OMSymbol(\"term\", \"polyd\")\n",
    "poly_ring_sym = om.OMSymbol(\"poly_ring_d_named\", \"polyd\")\n",
    "dmp_sym = om.OMSymbol(\"DMP\", \"polyd\")\n",
    "\n",
    "var1 = om.OMVariable(\"x\")\n",
    "var2 = om.OMVariable(\"y\")\n",
    "\n",
    "int0 = om.OMInteger(0)\n",
    "int1 = om.OMInteger(1)\n",
    "int2 = om.OMInteger(2)\n",
    "int3 = om.OMInteger(3)\n",
    "\n",
    "poly_ring = om.OMApplication(poly_ring_sym, [int_ring, var1, var2])\n",
    "term1 = om.OMApplication(term_sym, [int1,int2,int0])\n",
    "term2 = om.OMApplication(term_sym, [int1,int0,int3])\n",
    "sdmp1 = om.OMApplication(sdmp_sym, [term1, term2])\n",
    "sdmp2 = om.OMApplication(sdmp_sym, [term2, term1])\n",
    "sdmp3 = om.OMApplication(sdmp_sym, [term1, term1])\n",
    "dmp1 = om.OMApplication(dmp_sym, [poly_ring, sdmp1])\n",
    "dmp2 = om.OMApplication(dmp_sym, [poly_ring, sdmp2])\n",
    "dmp3 = om.OMApplication(dmp_sym, [poly_ring, sdmp3])"
   ]
  },
  {
   "cell_type": "code",
   "execution_count": 156,
   "metadata": {
    "collapsed": false,
    "deletable": true,
    "editable": true
   },
   "outputs": [
    {
     "data": {
      "text/plain": [
       "True"
      ]
     },
     "execution_count": 156,
     "metadata": {},
     "output_type": "execute_result"
    }
   ],
   "source": [
    "client.heads.scscp_trans_1.polynomial_eq([dmp1, dmp2])"
   ]
  },
  {
   "cell_type": "code",
   "execution_count": 157,
   "metadata": {
    "collapsed": false
   },
   "outputs": [
    {
     "data": {
      "text/plain": [
       "True"
      ]
     },
     "execution_count": 157,
     "metadata": {},
     "output_type": "execute_result"
    }
   ],
   "source": [
    "client.heads.scscp_trans_1.polynomial_eq([dmp1, dmp1])"
   ]
  },
  {
   "cell_type": "code",
   "execution_count": 158,
   "metadata": {
    "collapsed": false
   },
   "outputs": [
    {
     "data": {
      "text/plain": [
       "False"
      ]
     },
     "execution_count": 158,
     "metadata": {},
     "output_type": "execute_result"
    }
   ],
   "source": [
    "client.heads.scscp_trans_1.polynomial_eq([dmp1, dmp3])"
   ]
  },
  {
   "cell_type": "code",
   "execution_count": 5,
   "metadata": {
    "collapsed": true,
    "deletable": true,
    "editable": true
   },
   "outputs": [],
   "source": [
    "client.quit()"
   ]
  }
 ],
 "metadata": {
  "kernelspec": {
   "display_name": "Python 3",
   "language": "python",
   "name": "python3"
  },
  "language_info": {
   "codemirror_mode": {
    "name": "ipython",
    "version": 3
   },
   "file_extension": ".py",
   "mimetype": "text/x-python",
   "name": "python",
   "nbconvert_exporter": "python",
   "pygments_lexer": "ipython3",
   "version": "3.5.2"
  }
 },
 "nbformat": 4,
 "nbformat_minor": 2
}
