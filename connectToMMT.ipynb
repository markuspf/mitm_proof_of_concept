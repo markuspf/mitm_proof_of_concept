{
 "cells": [
  {
   "cell_type": "code",
   "execution_count": 1,
   "metadata": {
    "collapsed": false,
    "deletable": true,
    "editable": true
   },
   "outputs": [],
   "source": [
    "from scscp import SCSCPCLI as cli\n",
    "from openmath import openmath as om"
   ]
  },
  {
   "cell_type": "code",
   "execution_count": 33,
   "metadata": {
    "collapsed": false,
    "deletable": true,
    "editable": true
   },
   "outputs": [],
   "source": [
    "client = cli(\"localhost\", 26134)"
   ]
  },
  {
   "cell_type": "code",
   "execution_count": 15,
   "metadata": {
    "collapsed": false,
    "deletable": true,
    "editable": true
   },
   "outputs": [
    {
     "data": {
      "text/plain": [
       "{'scscp_transient_1': ['SCSCPStartTracing', 'SCSCPStopTracing', 'orbit']}"
      ]
     },
     "execution_count": 15,
     "metadata": {},
     "output_type": "execute_result"
    }
   ],
   "source": [
    "client.heads"
   ]
  },
  {
   "cell_type": "code",
   "execution_count": 5,
   "metadata": {
    "collapsed": true,
    "deletable": true,
    "editable": true
   },
   "outputs": [],
   "source": [
    "var1 = om.OMVariable(\"x\")\n",
    "var2 = om.OMVariable(\"y\")\n",
    "var3 = om.OMVariable(\"z\")\n",
    "list_sym = om.OMSymbol(\"list\", \"list1\")\n",
    "var_list = om.OMApplication(list_sym, [var1, var2, var3])\n",
    "\n",
    "symgp_sym = om.OMSymbol(\"symmetric_group\", \"permgp2\")\n",
    "smgp = om.OMApplication(symgp_sym, [om.OMInteger(3)])"
   ]
  },
  {
   "cell_type": "code",
   "execution_count": 25,
   "metadata": {
    "collapsed": false,
    "deletable": true,
    "editable": true
   },
   "outputs": [
    {
     "ename": "SCSCPProtocolError",
     "evalue": "Server returned error: unhandled_symbol.",
     "output_type": "error",
     "traceback": [
      "\u001b[0;31m---------------------------------------------------------------------------\u001b[0m",
      "\u001b[0;31mSCSCPProtocolError\u001b[0m                        Traceback (most recent call last)",
      "\u001b[0;32m<ipython-input-25-f2d23d0db1c0>\u001b[0m in \u001b[0;36m<module>\u001b[0;34m()\u001b[0m\n\u001b[0;32m----> 1\u001b[0;31m \u001b[0mclient\u001b[0m\u001b[0;34m.\u001b[0m\u001b[0mheads\u001b[0m\u001b[0;34m.\u001b[0m\u001b[0mscscp_transient_1\u001b[0m\u001b[0;34m.\u001b[0m\u001b[0morbit\u001b[0m\u001b[0;34m(\u001b[0m\u001b[0;34m[\u001b[0m\u001b[0mvar_list\u001b[0m\u001b[0;34m,\u001b[0m \u001b[0msmgp\u001b[0m\u001b[0;34m]\u001b[0m\u001b[0;34m)\u001b[0m\u001b[0;34m\u001b[0m\u001b[0m\n\u001b[0m",
      "\u001b[0;32m/usr/local/lib/python3.5/dist-packages/scscp/cli.py\u001b[0m in \u001b[0;36m__call__\u001b[0;34m(self, data, cookie, **opts)\u001b[0m\n\u001b[1;32m     30\u001b[0m             \u001b[0;32melif\u001b[0m \u001b[0mres\u001b[0m\u001b[0;34m.\u001b[0m\u001b[0mtype\u001b[0m \u001b[0;34m==\u001b[0m \u001b[0;34m'procedure_terminated'\u001b[0m\u001b[0;34m:\u001b[0m\u001b[0;34m\u001b[0m\u001b[0m\n\u001b[1;32m     31\u001b[0m                 raise scscp.SCSCPProtocolError('Server returned error: %s.' % res.data.name.name,\n\u001b[0;32m---> 32\u001b[0;31m                                                    res.data)\n\u001b[0m\u001b[1;32m     33\u001b[0m             \u001b[0;32melse\u001b[0m\u001b[0;34m:\u001b[0m\u001b[0;34m\u001b[0m\u001b[0m\n\u001b[1;32m     34\u001b[0m                 \u001b[0;32mraise\u001b[0m \u001b[0mscscp\u001b[0m\u001b[0;34m.\u001b[0m\u001b[0mSCSCPProtocolError\u001b[0m\u001b[0;34m(\u001b[0m\u001b[0;34m'Unexpected response.'\u001b[0m\u001b[0;34m,\u001b[0m \u001b[0mresp\u001b[0m\u001b[0;34m.\u001b[0m\u001b[0mom\u001b[0m\u001b[0;34m(\u001b[0m\u001b[0;34m)\u001b[0m\u001b[0;34m)\u001b[0m\u001b[0;34m\u001b[0m\u001b[0m\n",
      "\u001b[0;31mSCSCPProtocolError\u001b[0m: Server returned error: unhandled_symbol."
     ]
    }
   ],
   "source": [
    "client.heads.scscp_transient_1.orbit([var_list, smgp])"
   ]
  },
  {
   "cell_type": "code",
   "execution_count": 35,
   "metadata": {
    "collapsed": false,
    "deletable": true,
    "editable": true
   },
   "outputs": [
    {
     "ename": "SCSCPProtocolError",
     "evalue": "Server returned error: error_system_specific.",
     "output_type": "error",
     "traceback": [
      "\u001b[0;31m---------------------------------------------------------------------------\u001b[0m",
      "\u001b[0;31mSCSCPProtocolError\u001b[0m                        Traceback (most recent call last)",
      "\u001b[0;32m<ipython-input-35-2405e3e934a0>\u001b[0m in \u001b[0;36m<module>\u001b[0;34m()\u001b[0m\n\u001b[0;32m----> 1\u001b[0;31m \u001b[0mclient\u001b[0m\u001b[0;34m.\u001b[0m\u001b[0mheads\u001b[0m\u001b[0;34m.\u001b[0m\u001b[0mscscp_transient_1\u001b[0m\u001b[0;34m.\u001b[0m\u001b[0morbit\u001b[0m\u001b[0;34m(\u001b[0m\u001b[0;34m[\u001b[0m\u001b[0mvar_list\u001b[0m\u001b[0;34m]\u001b[0m\u001b[0;34m)\u001b[0m\u001b[0;34m\u001b[0m\u001b[0m\n\u001b[0m",
      "\u001b[0;32m/usr/local/lib/python3.5/dist-packages/scscp/cli.py\u001b[0m in \u001b[0;36m__call__\u001b[0;34m(self, data, cookie, **opts)\u001b[0m\n\u001b[1;32m     30\u001b[0m             \u001b[0;32melif\u001b[0m \u001b[0mres\u001b[0m\u001b[0;34m.\u001b[0m\u001b[0mtype\u001b[0m \u001b[0;34m==\u001b[0m \u001b[0;34m'procedure_terminated'\u001b[0m\u001b[0;34m:\u001b[0m\u001b[0;34m\u001b[0m\u001b[0m\n\u001b[1;32m     31\u001b[0m                 raise scscp.SCSCPProtocolError('Server returned error: %s.' % res.data.name.name,\n\u001b[0;32m---> 32\u001b[0;31m                                                    res.data)\n\u001b[0m\u001b[1;32m     33\u001b[0m             \u001b[0;32melse\u001b[0m\u001b[0;34m:\u001b[0m\u001b[0;34m\u001b[0m\u001b[0m\n\u001b[1;32m     34\u001b[0m                 \u001b[0;32mraise\u001b[0m \u001b[0mscscp\u001b[0m\u001b[0;34m.\u001b[0m\u001b[0mSCSCPProtocolError\u001b[0m\u001b[0;34m(\u001b[0m\u001b[0;34m'Unexpected response.'\u001b[0m\u001b[0;34m,\u001b[0m \u001b[0mresp\u001b[0m\u001b[0;34m.\u001b[0m\u001b[0mom\u001b[0m\u001b[0;34m(\u001b[0m\u001b[0;34m)\u001b[0m\u001b[0;34m)\u001b[0m\u001b[0;34m\u001b[0m\u001b[0m\n",
      "\u001b[0;31mSCSCPProtocolError\u001b[0m: Server returned error: error_system_specific."
     ]
    }
   ],
   "source": [
    "client.heads.scscp_transient_1.orbit([var_list])"
   ]
  },
  {
   "cell_type": "code",
   "execution_count": 34,
   "metadata": {
    "collapsed": false,
    "deletable": true,
    "editable": true
   },
   "outputs": [
    {
     "data": {
      "text/plain": [
       "0"
      ]
     },
     "execution_count": 34,
     "metadata": {},
     "output_type": "execute_result"
    }
   ],
   "source": [
    "client.heads.scscp_transient_1.orbit([])"
   ]
  },
  {
   "cell_type": "code",
   "execution_count": 140,
   "metadata": {
    "collapsed": true,
    "deletable": true,
    "editable": true
   },
   "outputs": [],
   "source": [
    "int_ring = om.OMSymbol(\"integers\", \"ring3\")\n",
    "sdmp_sym = om.OMSymbol(\"SDMP\", \"polyd\")\n",
    "term_sym = om.OMSymbol(\"term\", \"polyd\")\n",
    "poly_ring_sym = om.OMSymbol(\"poly_ring_d_named\", \"polyd\")\n",
    "dmp_sym = om.OMSymbol(\"DMP\", \"polyd\")\n",
    "\n",
    "var1 = om.OMVariable(\"x\")\n",
    "var2 = om.OMVariable(\"y\")\n",
    "\n",
    "int0 = om.OMInteger(0)\n",
    "int1 = om.OMInteger(1)\n",
    "int2 = om.OMInteger(2)\n",
    "int3 = om.OMInteger(3)\n",
    "\n",
    "poly_ring = om.OMApplication(poly_ring_sym, [int_ring, var1, var2])\n",
    "term1 = om.OMApplication(term_sym, [int1,int2,int0])\n",
    "term2 = om.OMApplication(term_sym, [int1,int0,int3])\n",
    "sdmp1 = om.OMApplication(sdmp_sym, [term1, term2])\n",
    "sdmp2 = om.OMApplication(sdmp_sym, [term2, term1])\n",
    "sdmp3 = om.OMApplication(sdmp_sym, [term1, term1])\n",
    "dmp1 = om.OMApplication(dmp_sym, [poly_ring, sdmp1])\n",
    "dmp2 = om.OMApplication(dmp_sym, [poly_ring, sdmp2])\n",
    "dmp3 = om.OMApplication(dmp_sym, [poly_ring, sdmp3])"
   ]
  },
  {
   "cell_type": "code",
   "execution_count": 156,
   "metadata": {
    "collapsed": false,
    "deletable": true,
    "editable": true
   },
   "outputs": [
    {
     "data": {
      "text/plain": [
       "True"
      ]
     },
     "execution_count": 156,
     "metadata": {},
     "output_type": "execute_result"
    }
   ],
   "source": [
    "client.heads.scscp_trans_1.polynomial_eq([dmp1, dmp2])"
   ]
  },
  {
   "cell_type": "code",
   "execution_count": 157,
   "metadata": {
    "collapsed": false,
    "deletable": true,
    "editable": true
   },
   "outputs": [
    {
     "data": {
      "text/plain": [
       "True"
      ]
     },
     "execution_count": 157,
     "metadata": {},
     "output_type": "execute_result"
    }
   ],
   "source": [
    "client.heads.scscp_trans_1.polynomial_eq([dmp1, dmp1])"
   ]
  },
  {
   "cell_type": "code",
   "execution_count": 158,
   "metadata": {
    "collapsed": false,
    "deletable": true,
    "editable": true
   },
   "outputs": [
    {
     "data": {
      "text/plain": [
       "False"
      ]
     },
     "execution_count": 158,
     "metadata": {},
     "output_type": "execute_result"
    }
   ],
   "source": [
    "client.heads.scscp_trans_1.polynomial_eq([dmp1, dmp3])"
   ]
  },
  {
   "cell_type": "code",
   "execution_count": 5,
   "metadata": {
    "collapsed": true,
    "deletable": true,
    "editable": true
   },
   "outputs": [],
   "source": [
    "client.quit()"
   ]
  }
 ],
 "metadata": {
  "kernelspec": {
   "display_name": "Python 3",
   "language": "python",
   "name": "python3"
  },
  "language_info": {
   "codemirror_mode": {
    "name": "ipython",
    "version": 3
   },
   "file_extension": ".py",
   "mimetype": "text/x-python",
   "name": "python",
   "nbconvert_exporter": "python",
   "pygments_lexer": "ipython3",
   "version": "3.5.2"
  }
 },
 "nbformat": 4,
 "nbformat_minor": 2
}
