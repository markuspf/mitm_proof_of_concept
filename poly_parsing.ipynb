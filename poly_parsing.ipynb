{
 "cells": [
  {
   "cell_type": "code",
   "execution_count": null,
   "metadata": {
    "collapsed": false,
    "deletable": true,
    "editable": true
   },
   "outputs": [],
   "source": [
    "from openmath import openmath as om\n",
    "import queue\n",
    "from queue import Queue"
   ]
  },
  {
   "cell_type": "code",
   "execution_count": null,
   "metadata": {
    "collapsed": true,
    "deletable": true,
    "editable": true
   },
   "outputs": [],
   "source": [
    "int_ring = om.OMSymbol(\"integers\", \"ring3\")\n",
    "sdmp_sym = om.OMSymbol(\"SDMP\", \"polyd\")\n",
    "term_sym = om.OMSymbol(\"term\", \"polyd\")\n",
    "poly_ring_sym = om.OMSymbol(\"poly_ring_d_named\", \"polyd\")\n",
    "dmp_sym = om.OMSymbol(\"DMP\", \"polyd\")"
   ]
  },
  {
   "cell_type": "code",
   "execution_count": null,
   "metadata": {
    "collapsed": true,
    "deletable": true,
    "editable": true
   },
   "outputs": [],
   "source": [
    "def tokenise(poly_str):\n",
    "    tokens = Queue()\n",
    "    current_token = \"\"\n",
    "    while len(poly_str) > 0:\n",
    "        if str(poly_str[0]).isalpha():\n",
    "            while len(poly_str) > 0 and str(poly_str[0]).isalpha():\n",
    "                current_token = poly_str[0] + current_token\n",
    "                poly_str = poly_str[1:]\n",
    "            tokens.put(current_token)\n",
    "            current_token = \"\"\n",
    "        elif str(poly_str[0]).isnumeric():\n",
    "            while len(poly_str) > 0 and str(poly_str[0]).isnumeric():\n",
    "                current_token = poly_str[0] + current_token\n",
    "                poly_str = poly_str[1:]\n",
    "            tokens.put(current_token)\n",
    "            current_token = \"\"\n",
    "        elif poly_str[0] == '+':\n",
    "            tokens.put(\"+\")\n",
    "            poly_str = poly_str[1:]\n",
    "        else:\n",
    "            # just discard the character otherwise\n",
    "            poly_str = poly_str[1:]\n",
    "    return tokens"
   ]
  },
  {
   "cell_type": "code",
   "execution_count": null,
   "metadata": {
    "collapsed": false,
    "deletable": true,
    "editable": true
   },
   "outputs": [],
   "source": [
    "def parse_term(tokens):\n",
    "    if tokens.qsize() <= 0:\n",
    "        return None\n",
    "    term = {}\n",
    "    term[\"index\"] = int(tokens.get_nowait())\n",
    "    term[\"var_list\"] = set()\n",
    "    while tokens.qsize() > 0:\n",
    "        v = tokens.get_nowait()\n",
    "        if (v == \"+\"):\n",
    "            break\n",
    "        exp = tokens.get_nowait()\n",
    "        term[v] = exp\n",
    "        term[\"var_list\"].add(v)\n",
    "    return term"
   ]
  },
  {
   "cell_type": "code",
   "execution_count": null,
   "metadata": {
    "collapsed": false,
    "deletable": true,
    "editable": true
   },
   "outputs": [],
   "source": [
    "def parse_polynomial(poly_str):\n",
    "    try:\n",
    "        tokens = tokenise(poly_str)\n",
    "        terms = []\n",
    "        var_list = set()\n",
    "        term = parse_term(tokens)\n",
    "        while term != None:\n",
    "            terms.append(term)\n",
    "            var_list = var_list.union(term[\"var_list\"])\n",
    "            term = parse_term(tokens)\n",
    "    \n",
    "        poly_ring = om.OMApplication(poly_ring_sym, [int_ring] + list(var_list))\n",
    "        om_terms = []\n",
    "        for term in terms:\n",
    "            args = []\n",
    "            args.append(om.OMInteger(term[\"index\"]))\n",
    "            for var in var_list:\n",
    "                args.append(om.OMInteger(term[var]))\n",
    "            om_terms.append(om.OMApplication(term_sym, args))\n",
    "        sdmp = om.OMApplication(sdmp_sym, om_terms)\n",
    "        return om.OMApplication(dmp_sym, [poly_ring, sdmp])\n",
    "    except queue.Empty:\n",
    "        print(\"Please enter a valid polynomial\")\n",
    "        return None"
   ]
  }
 ],
 "metadata": {
  "kernelspec": {
   "display_name": "Python 3",
   "language": "python",
   "name": "python3"
  },
  "language_info": {
   "codemirror_mode": {
    "name": "ipython",
    "version": 3
   },
   "file_extension": ".py",
   "mimetype": "text/x-python",
   "name": "python",
   "nbconvert_exporter": "python",
   "pygments_lexer": "ipython3",
   "version": "3.5.2"
  }
 },
 "nbformat": 4,
 "nbformat_minor": 2
}
