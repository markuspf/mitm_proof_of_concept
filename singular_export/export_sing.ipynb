{
 "cells": [
  {
   "cell_type": "code",
   "execution_count": 1,
   "metadata": {},
   "outputs": [],
   "source": [
    "import pycparser"
   ]
  },
  {
   "cell_type": "code",
   "execution_count": 31,
   "metadata": {},
   "outputs": [],
   "source": [
    "ast = pycparser.parse_file(\"x.cc\", use_cpp=True)\n",
    "one_arg = ast.children()[0][1].children()[1][1].children()\n",
    "two_args = ast.children()[1][1].children()[1][1].children()\n",
    "three_args = ast.children()[2][1].children()[1][1].children()\n",
    "multiple_args = ast.children()[3][1].children()[1][1].children()\n",
    "conversions = ast.children()[4][1].children()[1][1].children()\n",
    "assignments = ast.children()[5][1].children()[1][1].children()"
   ]
  },
  {
   "cell_type": "code",
   "execution_count": 26,
   "metadata": {},
   "outputs": [],
   "source": [
    "funcs = []"
   ]
  },
  {
   "cell_type": "code",
   "execution_count": 22,
   "metadata": {},
   "outputs": [],
   "source": [
    "for entry in one_arg:\n",
    "    func = {}\n",
    "    if type(entry[1].children()[1][1]) is pycparser.c_ast.ID:\n",
    "        func[\"name\"] = entry[1].children()[1][1].name\n",
    "    else:\n",
    "        func[\"name\"] = entry[1].children()[1][1].value\n",
    "    if type(entry[1].children()[3][1]) is pycparser.c_ast.ID:\n",
    "        func[\"arguments\"] = [entry[1].children()[3][1].name]\n",
    "    else:\n",
    "        func[\"arguments\"] = [entry[1].children()[3][1].value]\n",
    "    if type(entry[1].children()[2][1]) is pycparser.c_ast.ID:\n",
    "        func[\"res\"] = entry[1].children()[2][1].name\n",
    "    else:\n",
    "        func[\"res\"] = entry[1].children()[2][1].value\n",
    "    funcs.append(func)"
   ]
  },
  {
   "cell_type": "code",
   "execution_count": null,
   "metadata": {},
   "outputs": [],
   "source": [
    "for entry in two_args:\n",
    "    func = {}\n",
    "    if type(entry[1].children()[1][1]) is pycparser.c_ast.ID:\n",
    "        func[\"name\"] = entry[1].children()[1][1].name\n",
    "    else:\n",
    "        func[\"name\"] = entry[1].children()[1][1].value\n",
    "        \n",
    "    if type(entry[1].children()[3][1]) is pycparser.c_ast.ID:\n",
    "        func[\"arguments\"] = [entry[1].children()[3][1].name]\n",
    "    else:\n",
    "        func[\"arguments\"] = [entry[1].children()[3][1].value]\n",
    "        \n",
    "    if type(entry[1].children()[4][1]) is pycparser.c_ast.ID:\n",
    "        func[\"arguments\"].append(entry[1].children()[4][1].name)\n",
    "    else:\n",
    "        func[\"arguments\"].append(entry[1].children()[4][1].value)\n",
    "        \n",
    "    if type(entry[1].children()[2][1]) is pycparser.c_ast.ID:\n",
    "        func[\"res\"] = entry[1].children()[2][1].name\n",
    "    else:\n",
    "        func[\"res\"] = entry[1].children()[2][1].value\n",
    "        \n",
    "    funcs.append(func)"
   ]
  },
  {
   "cell_type": "code",
   "execution_count": null,
   "metadata": {},
   "outputs": [],
   "source": [
    "for entry in three_args:\n",
    "    func = {}\n",
    "    if type(entry[1].children()[1][1]) is pycparser.c_ast.ID:\n",
    "        func[\"name\"] = entry[1].children()[1][1].name\n",
    "    else:\n",
    "        func[\"name\"] = entry[1].children()[1][1].value\n",
    "        \n",
    "    if type(entry[1].children()[3][1]) is pycparser.c_ast.ID:\n",
    "        func[\"arguments\"] = [entry[1].children()[3][1].name]\n",
    "    else:\n",
    "        func[\"arguments\"] = [entry[1].children()[3][1].value]\n",
    "        \n",
    "    if type(entry[1].children()[4][1]) is pycparser.c_ast.ID:\n",
    "        func[\"arguments\"].append(entry[1].children()[4][1].name)\n",
    "    else:\n",
    "        func[\"arguments\"].append(entry[1].children()[4][1].value)\n",
    "        \n",
    "    if type(entry[1].children()[5][1]) is pycparser.c_ast.ID:\n",
    "        func[\"arguments\"].append(entry[1].children()[5][1].name)\n",
    "    else:\n",
    "        func[\"arguments\"].append(entry[1].children()[5][1].value)\n",
    "        \n",
    "    if type(entry[1].children()[2][1]) is pycparser.c_ast.ID:\n",
    "        func[\"res\"] = entry[1].children()[2][1].name\n",
    "    else:\n",
    "        func[\"res\"] = entry[1].children()[2][1].value\n",
    "        \n",
    "    funcs.append(func)"
   ]
  },
  {
   "cell_type": "code",
   "execution_count": null,
   "metadata": {},
   "outputs": [],
   "source": [
    "# ok this is a weird one, gonna have to double check on that\n",
    "for entry in multiple_args:\n",
    "    func = {}\n",
    "    if type(entry[1].children()[1][1]) is pycparser.c_ast.ID:\n",
    "        func[\"name\"] = entry[1].children()[1][1].name\n",
    "    else:\n",
    "        func[\"name\"] = entry[1].children()[1][1].value"
   ]
  },
  {
   "cell_type": "code",
   "execution_count": 34,
   "metadata": {},
   "outputs": [],
   "source": [
    "for entry in conversions:\n",
    "    func = {}\n",
    "    if type(entry[1].children()[0][1]) is pycparser.c_ast.ID:\n",
    "        func[\"arguments\"] = [entry[1].children()[0][1].name]\n",
    "    else:\n",
    "        func[\"arguments\"] = [entry[1].children()[0][1].value]\n",
    "        \n",
    "    if type(entry[1].children()[1][1]) is pycparser.c_ast.ID:\n",
    "        func[\"res\"] = entry[1].children()[1][1].name\n",
    "    else:\n",
    "        func[\"res\"] = entry[1].children()[1][1].value\n",
    "        \n",
    "    func[\"name\"] = func[\"arguments\"][0] + \"_to_\" + func[\"res\"]\n",
    "    funcs.append"
   ]
  },
  {
   "cell_type": "code",
   "execution_count": 35,
   "metadata": {},
   "outputs": [],
   "source": [
    "for entry in assignments:\n",
    "    func = {}\n",
    "    if type(entry[1].children()[2][1]) is pycparser.c_ast.ID:\n",
    "        func[\"arguments\"] = [entry[1].children()[2][1].name]\n",
    "    else:\n",
    "        func[\"arguments\"] = [entry[1].children()[2][1].value]\n",
    "        \n",
    "    if type(entry[1].children()[1][1]) is pycparser.c_ast.ID:\n",
    "        func[\"res\"] = entry[1].children()[1][1].name\n",
    "    else:\n",
    "        func[\"res\"] = entry[1].children()[1][1].value\n",
    "        \n",
    "    func[\"name\"] = func[\"arguments\"][0] + \"_assign_to_\" + func[\"res\"]\n",
    "    funcs.append(func)"
   ]
  }
 ],
 "metadata": {
  "kernelspec": {
   "display_name": "Python 3",
   "language": "python",
   "name": "python3"
  },
  "language_info": {
   "codemirror_mode": {
    "name": "ipython",
    "version": 3
   },
   "file_extension": ".py",
   "mimetype": "text/x-python",
   "name": "python",
   "nbconvert_exporter": "python",
   "pygments_lexer": "ipython3",
   "version": "3.5.2"
  }
 },
 "nbformat": 4,
 "nbformat_minor": 2
}
